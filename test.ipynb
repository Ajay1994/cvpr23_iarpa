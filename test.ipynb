{
 "cells": [
  {
   "cell_type": "code",
   "execution_count": 2,
   "metadata": {},
   "outputs": [],
   "source": [
    "import matplotlib.pyplot as plt\n",
    "import torch\n",
    "import time\n",
    "import numpy as np\n",
    "import random\n",
    "from PIL import Image\n",
    "import os\n",
    "import torch.nn.functional as F\n",
    "from simulator_new import Simulator\n",
    "import torchvision.transforms as T\n",
    "import torch.nn as nn\n",
    "from torch.utils.data import Dataset, DataLoader\n",
    "import torchvision.utils as utils\n",
    "from tqdm import tqdm\n",
    "\n",
    "mode = \"test\"\n",
    "path = \"/data/ajay_data/cvpr2023/iarpa/faces_webface_112x112\""
   ]
  },
  {
   "cell_type": "code",
   "execution_count": 3,
   "metadata": {},
   "outputs": [
    {
     "name": "stdout",
     "output_type": "stream",
     "text": [
      "Number of classes/Dirs: 10572\n"
     ]
    }
   ],
   "source": [
    "image_dirs = os.listdir(os.path.join(path, \"imgs\"))\n",
    "print(\"Number of classes/Dirs: {}\".format(len(image_dirs)))"
   ]
  },
  {
   "cell_type": "code",
   "execution_count": 4,
   "metadata": {},
   "outputs": [
    {
     "name": "stderr",
     "output_type": "stream",
     "text": [
      "/home/aj32632/eccv2022/env/lib/python3.6/site-packages/torch/functional.py:445: UserWarning: torch.meshgrid: in an upcoming release, it will be required to pass the indexing argument. (Triggered internally at  ../aten/src/ATen/native/TensorShape.cpp:2157.)\n",
      "  return _VF.meshgrid(tensors, **kwargs)  # type: ignore[attr-defined]\n"
     ]
    }
   ],
   "source": [
    "device = torch.device('cuda:0')\n",
    "turb_params = {\n",
    "                'img_size': (112,112),\n",
    "                'D':0.071,        # Apeture diameter\n",
    "                'r0':0.071,      # Fried parameter \n",
    "                'L':100,       # Propogation distance\n",
    "                'thre':0.02,   # Used to suppress small values in the tilt correlation matrix. Increase \n",
    "                                # this threshold if the pixel displacement appears to be scattering\n",
    "                'adj':1,        # Adjusting factor of delta0 for tilt matrix\n",
    "                'wavelength':0.500e-6,\n",
    "                'corr':-0.05,    # Correlation strength for PSF without tilt. suggested range: (-1 ~ -0.01)\n",
    "                'zer_scale':1   # manually adjust zernike coefficients of the PSF without tilt.\n",
    "            }\n",
    "transform = T.Compose([T.ToTensor(),T.RandomCrop(112)])\n",
    "simulator = Simulator(turb_params).to(device,dtype=torch.float32)"
   ]
  },
  {
   "cell_type": "code",
   "execution_count": 12,
   "metadata": {},
   "outputs": [],
   "source": [
    "for img_dir in image_dirs[:2]:\n",
    "    path_img = os.path.join(path, \"imgs\", img_dir)\n",
    "    os.mkdir(os.path.join(path, \"gt\", img_dir))\n",
    "    os.mkdir(os.path.join(path, \"noise\", img_dir))\n",
    "    os.mkdir(os.path.join(path, \"sim\", img_dir))\n",
    "\n",
    "    path_images = os.listdir(path_img)\n",
    "    for item in path_images:\n",
    "        if \"jpg\" not in item:\n",
    "            continue\n",
    "        input_image  = os.path.join(path, \"gt\", img_dir, item)\n",
    "        output_image  = os.path.join(path, \"sim\", img_dir, item)\n",
    "        noise_image = os.path.join(path, \"noise\", img_dir, item.replace(\"jpg\", \"pt\"))\n",
    "        item_tensor = transform(Image.open(os.path.join(path_img, item)))\n",
    "        im = item_tensor.unsqueeze(0).to(device)\n",
    "        noise, _, _, sim = simulator(im)\n",
    "        noise_to_save = (noise[0].detach().cpu(), noise[1].detach().cpu())\n",
    "        utils.save_image(item_tensor, input_image)\n",
    "        utils.save_image(sim.squeeze(0), output_image)\n",
    "        torch.save(noise_to_save, noise_image)\n",
    "        \n"
   ]
  },
  {
   "cell_type": "code",
   "execution_count": 11,
   "metadata": {},
   "outputs": [
    {
     "name": "stdout",
     "output_type": "stream",
     "text": [
      "torch.Size([3, 112, 112]) torch.Size([1, 3, 112, 112]) torch.Size([1, 36, 512, 512]) torch.Size([1, 3, 112, 112])\n"
     ]
    }
   ],
   "source": [
    "print(item_tensor.shape, im.shape, noise[0].shape, sim.shape)"
   ]
  },
  {
   "cell_type": "code",
   "execution_count": null,
   "metadata": {},
   "outputs": [],
   "source": []
  },
  {
   "cell_type": "code",
   "execution_count": null,
   "metadata": {},
   "outputs": [],
   "source": []
  }
 ],
 "metadata": {
  "interpreter": {
   "hash": "3d1bfec0e480a4e2d2fd5a3875ae8ac5e9f0567ed20e8d4e4e01957747cb0f33"
  },
  "kernelspec": {
   "display_name": "Python 3.6.9 ('env')",
   "language": "python",
   "name": "python3"
  },
  "language_info": {
   "codemirror_mode": {
    "name": "ipython",
    "version": 3
   },
   "file_extension": ".py",
   "mimetype": "text/x-python",
   "name": "python",
   "nbconvert_exporter": "python",
   "pygments_lexer": "ipython3",
   "version": "3.6.9"
  },
  "orig_nbformat": 4
 },
 "nbformat": 4,
 "nbformat_minor": 2
}
